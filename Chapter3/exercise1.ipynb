{
 "cells": [
  {
   "cell_type": "markdown",
   "metadata": {},
   "source": [
    "# Exercise 1\n",
    "Revise WordSearchConstraint so that overlapping letters are allowed."
   ]
  },
  {
   "cell_type": "markdown",
   "metadata": {},
   "source": [
    "## Example where the non-overlapping solution does not work anymore"
   ]
  },
  {
   "cell_type": "code",
   "execution_count": null,
   "metadata": {},
   "outputs": [],
   "source": [
    "from word_search import Grid, WordSearchConstraint, GridLocation, CSP, generate_grid, generate_domain, display_grid\n",
    "from random import choice\n",
    "from typing import List, Dict, Optional\n",
    "\n",
    "grid: Grid = generate_grid(7, 7)\n",
    "words: List[str] = [\"MATTHEW\", \"JOE\", \"MARY\", \"SARAH\", \"SALLY\", \"FRED\", \"WILMA\", \"BARNEY\", \"BAMBAM\", \"BETTY\"]\n",
    "locations: Dict[str, List[List[GridLocation]]] = {}\n",
    "for word in words:\n",
    "    locations[word] = generate_domain(word, grid)\n",
    "csp: CSP[str, List[GridLocation]] = CSP(words, locations)\n",
    "csp.add_constraint(WordSearchConstraint(words))\n",
    "solution: Optional[Dict[str, List[GridLocation]]] = csp.backtracking_search()\n",
    "if solution is None:\n",
    "    print(\"No solution found!\")\n",
    "else:\n",
    "    for word, grid_locations in solution.items():\n",
    "        # random reverse half the time\n",
    "        if choice([True, False]):\n",
    "            grid_locations.reverse()\n",
    "        for index, letter in enumerate(word):\n",
    "            (row, col) = (grid_locations[index].row, grid_locations[index].column)\n",
    "            grid[row][col] = letter\n",
    "    display_grid(grid)"
   ]
  },
  {
   "cell_type": "markdown",
   "metadata": {},
   "source": [
    "## Overlapping words"
   ]
  },
  {
   "cell_type": "code",
   "execution_count": null,
   "metadata": {},
   "outputs": [],
   "source": [
    "from typing import List, Dict\n",
    "from csp import Constraint, CSP\n",
    "from word_search import GridLocation, Grid, Optional\n",
    "\n",
    "class WordSearchConstraintWithOverlap(Constraint[str, List[GridLocation]]):\n",
    "    def __init__(self, words: List[str], rows:int, columns: int) -> None:\n",
    "        super().__init__(words)\n",
    "        self.words: List[str] = words\n",
    "        self.rows = rows\n",
    "        self.columns = columns\n",
    "\n",
    "    def satisfied(self, assignment: Dict[str, List[GridLocation]]) -> bool:\n",
    "        # if there are any duplicates grid locations then they should have the same letter\n",
    "        grid:Grid = [[None for c in range(self.columns)] for r in range(self.rows)]\n",
    "        for word, grid_locations in assignment.items():\n",
    "            for index, letter in enumerate(word):\n",
    "                (row, col) = (grid_locations[index].row, grid_locations[index].column)\n",
    "                if (grid[row][col] is None) or (grid[row][col] == letter):\n",
    "                    grid[row][col] = letter     \n",
    "                else:\n",
    "                    return False\n",
    "        return True"
   ]
  },
  {
   "cell_type": "code",
   "execution_count": null,
   "metadata": {},
   "outputs": [],
   "source": [
    "from word_search import generate_grid, generate_domain, display_grid\n",
    "\n",
    "grid: Grid = generate_grid(7, 7)\n",
    "words: List[str] = [\"MATTHEW\", \"JOE\", \"MARY\", \"SARAH\", \"SALLY\", \n",
    "                    \"FRED\", \"WILMA\", \"BARNEY\", \"BAMBAM\", \"BETTY\", \"DINO\"]\n",
    "locations: Dict[str, List[List[GridLocation]]] = {}\n",
    "for word in words:\n",
    "    locations[word] = generate_domain(word, grid)\n",
    "csp: CSP[str, List[GridLocation]] = CSP(words, locations)\n",
    "csp.add_constraint(WordSearchConstraintWithOverlap(words, 7, 7))\n",
    "solution: Optional[Dict[str, List[GridLocation]]] = csp.backtracking_search()\n",
    "if solution is None:\n",
    "    print(\"No solution found!\")\n",
    "else:\n",
    "    for word, grid_locations in solution.items():\n",
    "        for index, letter in enumerate(word):\n",
    "            (row, col) = (grid_locations[index].row, grid_locations[index].column)\n",
    "            grid[row][col] = letter\n",
    "    display_grid(grid)"
   ]
  },
  {
   "cell_type": "code",
   "execution_count": null,
   "metadata": {},
   "outputs": [],
   "source": []
  }
 ],
 "metadata": {
  "kernelspec": {
   "display_name": "Python 3",
   "language": "python",
   "name": "python3"
  },
  "language_info": {
   "codemirror_mode": {
    "name": "ipython",
    "version": 3
   },
   "file_extension": ".py",
   "mimetype": "text/x-python",
   "name": "python",
   "nbconvert_exporter": "python",
   "pygments_lexer": "ipython3",
   "version": "3.7.5"
  }
 },
 "nbformat": 4,
 "nbformat_minor": 2
}
