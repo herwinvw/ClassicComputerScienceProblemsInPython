{
 "cells": [
  {
   "cell_type": "markdown",
   "metadata": {},
   "source": [
    "# Exercise 2\n",
    "Add a counter to `dfs()`, `bfs()`, and `astar()` to see how many states each\n",
    "searches through for the same maze. Find the counts for 100 different mazes to\n",
    "get statistically significant results."
   ]
  },
  {
   "cell_type": "markdown",
   "metadata": {},
   "source": [
    "## Create 100 mazes"
   ]
  },
  {
   "cell_type": "code",
   "execution_count": 27,
   "metadata": {},
   "outputs": [],
   "source": [
    "from typing import List\n",
    "from maze import Maze\n",
    "mazes: List[Maze] = list()\n",
    "for i in range(100):\n",
    "    mazes.append(Maze())"
   ]
  },
  {
   "cell_type": "code",
   "execution_count": 28,
   "metadata": {},
   "outputs": [
    {
     "name": "stdout",
     "output_type": "stream",
     "text": [
      "SXXX      \n",
      "          \n",
      "       X  \n",
      " X  X   X \n",
      "      X  X\n",
      "    X  X X\n",
      " X X      \n",
      "X         \n",
      "          \n",
      "        XG\n",
      "\n"
     ]
    }
   ],
   "source": [
    "print(mazes[10])"
   ]
  },
  {
   "cell_type": "markdown",
   "metadata": {},
   "source": [
    "## Searches with counter"
   ]
  },
  {
   "cell_type": "code",
   "execution_count": 31,
   "metadata": {},
   "outputs": [],
   "source": [
    "from typing import TypeVar, Iterable, Sequence, Generic, List, Callable, Set, Deque, Dict, Any, Optional\n",
    "\n",
    "T = TypeVar('T')\n",
    "\n",
    "from generic_search import Node, Stack, Queue, PriorityQueue\n",
    "def dfs_counter(initial: T, goal_test: Callable[[T], bool], successors: Callable[[T], List[T]]) -> (Optional[Node[T]], int):\n",
    "    # frontier is where we've yet to go\n",
    "    frontier: Stack[Node[T]] = Stack()\n",
    "    frontier.push(Node(initial, None))\n",
    "    # explored is where we've been\n",
    "    explored: Set[T] = {initial}\n",
    "\n",
    "    # keep going while there is more to explore\n",
    "    while not frontier.empty:\n",
    "        current_node: Node[T] = frontier.pop()\n",
    "        current_state: T = current_node.state\n",
    "        # if we found the goal, we're done\n",
    "        if goal_test(current_state):\n",
    "            return current_node, len(explored)\n",
    "        # check where we can go next and haven't explored\n",
    "        for child in successors(current_state):\n",
    "            if child in explored:  # skip children we already explored\n",
    "                continue\n",
    "            explored.add(child)\n",
    "            frontier.push(Node(child, current_node))\n",
    "    return None, len(explored)  # went through everything and never found goal\n",
    "\n",
    "def bfs_counter(initial: T, goal_test: Callable[[T], bool], successors: Callable[[T], List[T]]) -> (Optional[Node[T]], int):\n",
    "    # frontier is where we've yet to go\n",
    "    frontier: Queue[Node[T]] = Queue()\n",
    "    frontier.push(Node(initial, None))\n",
    "    # explored is where we've been\n",
    "    explored: Set[T] = {initial}\n",
    "\n",
    "    # keep going while there is more to explore\n",
    "    while not frontier.empty:\n",
    "        current_node: Node[T] = frontier.pop()\n",
    "        current_state: T = current_node.state\n",
    "        # if we found the goal, we're done\n",
    "        if goal_test(current_state):\n",
    "            return current_node, len(explored)\n",
    "        # check where we can go next and haven't explored\n",
    "        for child in successors(current_state):\n",
    "            if child in explored:  # skip children we already explored\n",
    "                continue\n",
    "            explored.add(child)\n",
    "            frontier.push(Node(child, current_node))\n",
    "    return None, len(explored)  # went through everything and never found goal\n",
    "\n",
    "def astar_counter(initial: T, goal_test: Callable[[T], bool], successors: Callable[[T], List[T]], heuristic: Callable[[T], float]) -> (Optional[Node[T]], int):\n",
    "    # frontier is where we've yet to go\n",
    "    frontier: PriorityQueue[Node[T]] = PriorityQueue()\n",
    "    frontier.push(Node(initial, None, 0.0, heuristic(initial)))\n",
    "    # explored is where we've been\n",
    "    explored: Dict[T, float] = {initial: 0.0}\n",
    "\n",
    "    # keep going while there is more to explore\n",
    "    while not frontier.empty:\n",
    "        current_node: Node[T] = frontier.pop()\n",
    "        current_state: T = current_node.state\n",
    "        # if we found the goal, we're done\n",
    "        if goal_test(current_state):\n",
    "            return current_node, len(explored)\n",
    "        # check where we can go next and haven't explored\n",
    "        for child in successors(current_state):\n",
    "            new_cost: float = current_node.cost + 1  # 1 assumes a grid, need a cost function for more sophisticated apps\n",
    "\n",
    "            if child not in explored or explored[child] > new_cost:\n",
    "                explored[child] = new_cost\n",
    "                frontier.push(Node(child, current_node, new_cost, heuristic(child)))\n",
    "    return None, len(explored)  # went through everything and never found goal"
   ]
  },
  {
   "cell_type": "markdown",
   "metadata": {},
   "source": [
    "## Search test"
   ]
  },
  {
   "cell_type": "code",
   "execution_count": 48,
   "metadata": {},
   "outputs": [],
   "source": [
    "from maze import manhattan_distance\n",
    "total_steps_dfs: int = 0\n",
    "total_steps_bfs: int = 0\n",
    "total_steps_astar : int = 0\n",
    "    \n",
    "for m in mazes:\n",
    "    _, steps_dfs = dfs_counter(m.start, m.goal_test, m.successors)\n",
    "    total_steps_dfs += steps_dfs\n",
    "    \n",
    "    _, steps_bfs = bfs_counter(m.start, m.goal_test, m.successors)\n",
    "    total_steps_bfs += steps_bfs\n",
    "    \n",
    "    _, steps_astar = astar_counter(m.start, m.goal_test, m.successors, manhattan_distance(m.goal))\n",
    "    total_steps_astar += steps_astar"
   ]
  },
  {
   "cell_type": "code",
   "execution_count": 49,
   "metadata": {},
   "outputs": [
    {
     "data": {
      "text/plain": [
       "63.28"
      ]
     },
     "execution_count": 49,
     "metadata": {},
     "output_type": "execute_result"
    }
   ],
   "source": [
    "total_steps_dfs/100"
   ]
  },
  {
   "cell_type": "code",
   "execution_count": 50,
   "metadata": {},
   "outputs": [
    {
     "data": {
      "text/plain": [
       "70.02"
      ]
     },
     "execution_count": 50,
     "metadata": {},
     "output_type": "execute_result"
    }
   ],
   "source": [
    "total_steps_bfs/100"
   ]
  },
  {
   "cell_type": "code",
   "execution_count": 51,
   "metadata": {},
   "outputs": [
    {
     "data": {
      "text/plain": [
       "57.52"
      ]
     },
     "execution_count": 51,
     "metadata": {},
     "output_type": "execute_result"
    }
   ],
   "source": [
    "total_steps_astar/100"
   ]
  },
  {
   "cell_type": "markdown",
   "metadata": {},
   "source": [
    "BFS takes the most steps on average, but does find the optimal path. DFS finds the goal quicker, but the path is not always optimal. A* finds the optimal path with the least amount of steps."
   ]
  }
 ],
 "metadata": {
  "kernelspec": {
   "display_name": "Python 3",
   "language": "python",
   "name": "python3"
  },
  "language_info": {
   "codemirror_mode": {
    "name": "ipython",
    "version": 3
   },
   "file_extension": ".py",
   "mimetype": "text/x-python",
   "name": "python",
   "nbconvert_exporter": "python",
   "pygments_lexer": "ipython3",
   "version": "3.7.5"
  }
 },
 "nbformat": 4,
 "nbformat_minor": 2
}
