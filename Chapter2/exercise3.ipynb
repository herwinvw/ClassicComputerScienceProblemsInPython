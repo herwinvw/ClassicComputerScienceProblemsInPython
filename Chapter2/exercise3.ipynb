{
 "cells": [
  {
   "cell_type": "markdown",
   "metadata": {},
   "source": [
    "# Exercise 3\n",
    "Find a solution to the missionaries-and-cannibals problem for a different number\n",
    "of starting missionaries and cannibals. Hint: you may need to add overrides\n",
    "of the `__eq__()` and `__hash__()` methods to `MCState`."
   ]
  },
  {
   "cell_type": "markdown",
   "metadata": {},
   "source": [
    "## Monkeypatch MCState with __eq__ and __hash__"
   ]
  },
  {
   "cell_type": "code",
   "execution_count": 1,
   "metadata": {},
   "outputs": [],
   "source": [
    "from missionaries import MCState\n",
    "def mcstate_equal(self, other):\n",
    "    return (self.wm == other.wm) & (self.wc == other.wc) & (self.boat == other.boat)\n",
    "\n",
    "def mcstate_hash(self):\n",
    "    return hash((self.wm, self.wc, self.boat))\n",
    "\n",
    "MCState.__eq__ = mcstate_equal \n",
    "MCState.__hash__ = mcstate_hash"
   ]
  },
  {
   "cell_type": "markdown",
   "metadata": {},
   "source": [
    "## Solving the problem for 4 missionaries and cannibals"
   ]
  },
  {
   "cell_type": "code",
   "execution_count": 3,
   "metadata": {},
   "outputs": [
    {
     "name": "stdout",
     "output_type": "stream",
     "text": [
      "No solution found!\n"
     ]
    }
   ],
   "source": [
    "import missionaries\n",
    "from missionaries import display_solution\n",
    "from generic_search import bfs\n",
    "from typing import Optional, List\n",
    "from generic_search import bfs, Node, node_to_path\n",
    "\n",
    "\n",
    "missionaries.MAX_NUM = 4\n",
    "start: MCState = MCState(missionaries.MAX_NUM, missionaries.MAX_NUM, True)\n",
    "solution: Optional[Node[MCState]] = bfs(start, MCState.goal_test, MCState.successors)\n",
    "if solution is None:\n",
    "    print(\"No solution found!\")\n",
    "else:\n",
    "    path: List[MCState] = node_to_path(solution)\n",
    "    display_solution(path)"
   ]
  },
  {
   "cell_type": "markdown",
   "metadata": {},
   "source": [
    "For four or more cannibals or missionaries no solution exists (see also https://en.wikipedia.org/wiki/Missionaries_and_cannibals_problem#Variations)"
   ]
  }
 ],
 "metadata": {
  "kernelspec": {
   "display_name": "Python 3",
   "language": "python",
   "name": "python3"
  },
  "language_info": {
   "codemirror_mode": {
    "name": "ipython",
    "version": 3
   },
   "file_extension": ".py",
   "mimetype": "text/x-python",
   "name": "python",
   "nbconvert_exporter": "python",
   "pygments_lexer": "ipython3",
   "version": "3.7.5"
  }
 },
 "nbformat": 4,
 "nbformat_minor": 2
}
