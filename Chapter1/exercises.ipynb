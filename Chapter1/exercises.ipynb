{
 "cells": [
  {
   "cell_type": "markdown",
   "metadata": {},
   "source": [
    "# Exercises"
   ]
  },
  {
   "cell_type": "markdown",
   "metadata": {},
   "source": [
    "## Exercise 1\n",
    "Write yet another function that solves for element n of the Fibonacci sequence,\n",
    "using a technique of your own design. Write unit tests that evaluate its correctness\n",
    "and performance relative to the other versions in this chapter."
   ]
  },
  {
   "cell_type": "markdown",
   "metadata": {},
   "source": [
    "### Solution\n",
    "The Fibonacci numbers have a closed-form solution (https://en.wikipedia.org/wiki/Fibonacci_number#Closed-form_expression):\n",
    "\n",
    "$F_n = \\left \\lfloor \\frac{\\phi^n}{\\sqrt{5}}+\\frac{1}{2} \\right \\rfloor$, with\n",
    "\n",
    "$\\phi = \\frac{1+\\sqrt{5}}{2}$"
   ]
  },
  {
   "cell_type": "code",
   "execution_count": 125,
   "metadata": {},
   "outputs": [],
   "source": [
    "import math\n",
    "def fib_closed(n: int) -> int:\n",
    "    phi = (1 + math.sqrt(5))/2\n",
    "    return math.floor((phi**n)/math.sqrt(5)+(1/2))"
   ]
  },
  {
   "cell_type": "markdown",
   "metadata": {},
   "source": [
    "Unit tests"
   ]
  },
  {
   "cell_type": "code",
   "execution_count": 126,
   "metadata": {},
   "outputs": [
    {
     "name": "stdout",
     "output_type": "stream",
     "text": [
      "fib5(0) = 0, fib_closed(0)=0\n",
      "fib5(1) = 1, fib_closed(1)=1\n",
      "fib5(5) = 5, fib_closed(5)=5\n",
      "fib5(25) = 75025, fib_closed(25)=75025\n",
      "fib5(50) = 12586269025, fib_closed(50)=12586269025\n",
      "fib5(75) = 2111485077978050, fib_closed(75)=2111485077978055\n",
      "fib5(100) = 354224848179261915075, fib_closed(100)=354224848179263111168\n"
     ]
    }
   ],
   "source": [
    "from fib5 import fib5 \n",
    "from fib4 import fib4\n",
    "import timeit\n",
    "for i in [0,1,5,25, 50,75, 100]:\n",
    "    print(f\"fib5({i}) = {fib5(i)}, fib_closed({i})={fib_closed(i)}\")"
   ]
  },
  {
   "cell_type": "markdown",
   "metadata": {},
   "source": [
    "Seems the closed form solution suffers from rounding errors when calculating very big fibonacci numbers."
   ]
  },
  {
   "cell_type": "code",
   "execution_count": 117,
   "metadata": {},
   "outputs": [],
   "source": [
    "from timeit import default_timer as timer"
   ]
  },
  {
   "cell_type": "code",
   "execution_count": 121,
   "metadata": {},
   "outputs": [],
   "source": [
    "from typing import Callable\n",
    "def fib_perf(fib: Callable[[int],int], n:int = 50, repeats:int = 1000000)->float:\n",
    "    start = timer()\n",
    "    for i in range(repeats):\n",
    "        fib(n)\n",
    "    end = timer()\n",
    "    return(end - start)"
   ]
  },
  {
   "cell_type": "code",
   "execution_count": 122,
   "metadata": {},
   "outputs": [
    {
     "name": "stdout",
     "output_type": "stream",
     "text": [
      "fib_closed speedup for fib(5): 0.5656257381690774\n",
      "fib_closed speedup for fib(10): 0.7970060094147272\n",
      "fib_closed speedup for fib(25): 1.9666871906484276\n",
      "fib_closed speedup for fib(50): 3.391618790332616\n"
     ]
    }
   ],
   "source": [
    "for n in [5, 10, 25, 50]:\n",
    "    print(f\"fib_closed speedup for fib({n}): {fib_perf(fib5, n)/fib_perf(fib_closed, n)}\")"
   ]
  },
  {
   "cell_type": "code",
   "execution_count": null,
   "metadata": {},
   "outputs": [],
   "source": []
  }
 ],
 "metadata": {
  "kernelspec": {
   "display_name": "Python 3",
   "language": "python",
   "name": "python3"
  },
  "language_info": {
   "codemirror_mode": {
    "name": "ipython",
    "version": 3
   },
   "file_extension": ".py",
   "mimetype": "text/x-python",
   "name": "python",
   "nbconvert_exporter": "python",
   "pygments_lexer": "ipython3",
   "version": "3.6.9"
  }
 },
 "nbformat": 4,
 "nbformat_minor": 2
}
